{
 "cells": [
  {
   "cell_type": "code",
   "execution_count": null,
   "metadata": {
    "collapsed": false
   },
   "outputs": [],
   "source": [
    "import os\n",
    "import numpy as np\n",
    "import scipy.stats as stats\n",
    "from statsmodels.robust.scale import mad\n",
    "from statsmodels.graphics.gofplots import qqplot\n",
    "from statsmodels.distributions.empirical_distribution import ECDF\n",
    "import pandas as pd\n",
    "from matplotlib import pyplot\n",
    "\n",
    "import flowio\n",
    "\n",
    "%matplotlib inline"
   ]
  },
  {
   "cell_type": "code",
   "execution_count": null,
   "metadata": {
    "collapsed": false
   },
   "outputs": [],
   "source": [
    "time_channel = \"Time\"\n",
    "data_channel = \"Blue B-A\"\n",
    "data_dir = \"/Users/swhite/notebooks/flowClean_testing/data\"\n",
    "diff_roll = 0.01\n",
    "final_roll = 0.02\n",
    "k = 1.0\n",
    "k2 = 1.0\n",
    "\n",
    "figure_out_dir = \"flow_rate_qc_ks\"\n",
    "fig_size = (16, 4)"
   ]
  },
  {
   "cell_type": "code",
   "execution_count": null,
   "metadata": {
    "collapsed": true
   },
   "outputs": [],
   "source": [
    "def plot_channel(fcs_file, x_channel_index, y_channel_index, x_biex=True, y_biex=True, fig_size=(16, 4)):\n",
    "    fd = flowio.FlowData(\"/\".join([data_dir, fcs_file]))\n",
    "    events = np.reshape(fd.events, (-1, fd.channel_count))\n",
    "    \n",
    "    x_label = find_channel_label(fd.channels, x_channel_index)\n",
    "    y_label = find_channel_label(fd.channels, y_channel_index)\n",
    "    \n",
    "    pre_scale = 0.003\n",
    "    \n",
    "    if x_biex:\n",
    "        x = np.arcsinh(events[:, x_channel_index] * pre_scale)\n",
    "    else:\n",
    "        x = events[:, x_channel_index]\n",
    "    \n",
    "    if y_biex:\n",
    "        y = np.arcsinh(events[:, y_channel_index] * pre_scale)\n",
    "    else:\n",
    "        y = events[:, y_channel_index]\n",
    "    \n",
    "    my_cmap = pyplot.cm.get_cmap('jet')\n",
    "    my_cmap.set_under('w', alpha=0)\n",
    "    \n",
    "    bins = int(np.sqrt(x.shape[0]))\n",
    "    \n",
    "    fig = pyplot.figure(figsize=fig_size)\n",
    "    ax = fig.add_subplot(1, 1, 1)\n",
    "    \n",
    "    ax.set_title(fd.name, fontsize=16)\n",
    "    \n",
    "    ax.set_xlabel(x_label, fontsize=14)\n",
    "    ax.set_ylabel(y_label, fontsize=14)\n",
    "    \n",
    "    ax.hist2d(\n",
    "        x,\n",
    "        y,\n",
    "        bins=[bins, bins],\n",
    "        cmap=my_cmap,\n",
    "        vmin=0.9\n",
    "    )\n",
    "    \n",
    "    fig.tight_layout()\n",
    "    \n",
    "    pyplot.show()"
   ]
  },
  {
   "cell_type": "code",
   "execution_count": null,
   "metadata": {
    "collapsed": false
   },
   "outputs": [],
   "source": [
    "def find_channel_index(channel_dict, pnn_text):\n",
    "    for k, v in channel_dict.iteritems():\n",
    "        if v['PnN'] == pnn_text:\n",
    "            index = int(k) - 1\n",
    "    \n",
    "    return index"
   ]
  },
  {
   "cell_type": "code",
   "execution_count": null,
   "metadata": {
    "collapsed": true
   },
   "outputs": [],
   "source": [
    "def find_channel_label(channel_dict, channel_index):\n",
    "    label = ''\n",
    "    \n",
    "    for k, v in channel_dict.iteritems():\n",
    "        if k == str(channel_index + 1):\n",
    "            if v.has_key('PnS'):\n",
    "                label = \" \".join([v['PnN'], v['PnS']])\n",
    "            else:\n",
    "                label = v['PnN']\n",
    "    \n",
    "    return label"
   ]
  },
  {
   "cell_type": "code",
   "execution_count": null,
   "metadata": {
    "collapsed": false
   },
   "outputs": [],
   "source": [
    "def calculate_flow_rate(events, time_index, roll):\n",
    "    time_diff = np.diff(events[:, time_index])\n",
    "    time_diff = np.insert(time_diff, 0, 0)\n",
    "    \n",
    "    time_diff_mean = pd.rolling_mean(time_diff, roll, min_periods=1)\n",
    "    min_diff = time_diff_mean[time_diff_mean > 0].min()\n",
    "    time_diff_mean[time_diff_mean == 0] = min_diff\n",
    "    \n",
    "    flow_rate = 1 / time_diff_mean\n",
    "    \n",
    "    return flow_rate"
   ]
  },
  {
   "cell_type": "code",
   "execution_count": null,
   "metadata": {
    "collapsed": false
   },
   "outputs": [],
   "source": [
    "def plot_flow_rate(\n",
    "        file_name, \n",
    "        flow_rate, \n",
    "        event_idx, \n",
    "        hline=None, \n",
    "        trendline=None, \n",
    "        x_lim=None, \n",
    "        y_lim=None,\n",
    "        save_figure=False\n",
    "    ):\n",
    "    \n",
    "    fig = pyplot.figure(figsize=fig_size)\n",
    "    ax = fig.add_subplot(1, 1, 1)\n",
    "    \n",
    "    ax.set_title(file_name, fontsize=16)\n",
    "    \n",
    "    ax.set_xlabel(\"Event\", fontsize=14)\n",
    "    ax.set_ylabel(\"Flow rate (events/ms)\", fontsize=14)\n",
    "    \n",
    "    if x_lim is None:\n",
    "        ax.set_xlim([0, max(event_idx)])\n",
    "    else:\n",
    "        ax.set_xlim([x_lim[0], x_lim[1]])\n",
    "    \n",
    "    if y_lim is not None:\n",
    "        ax.set_ylim([y_lim[0], y_lim[1]])\n",
    "    \n",
    "    ax.plot(\n",
    "        event_idx,\n",
    "        flow_rate,\n",
    "        c='darkslateblue'\n",
    "    )\n",
    "    \n",
    "    if hline is not None:\n",
    "        ax.axhline(hline, linestyle='-', linewidth=1, c='coral')\n",
    "    \n",
    "    if trendline is not None:\n",
    "        ax.plot(event_idx, trendline, c='cornflowerblue')\n",
    "    \n",
    "    fig.tight_layout()\n",
    "        \n",
    "    if save_figure:\n",
    "        fig_name = \"\".join([file_name, '_a_', 'flow_rate.png'])\n",
    "        fig_path = \"/\".join([figure_out_dir, fig_name])\n",
    "        pyplot.savefig(fig_path)\n",
    "\n",
    "    pyplot.show()"
   ]
  },
  {
   "cell_type": "code",
   "execution_count": null,
   "metadata": {
    "collapsed": false
   },
   "outputs": [],
   "source": [
    "def plot_deviation(\n",
    "        file_name, \n",
    "        flow_rate, \n",
    "        event_indices, \n",
    "        diff, \n",
    "        stable_diff, \n",
    "        smooth_stable_diff, \n",
    "        threshold,\n",
    "        save_figure=False\n",
    "    ):\n",
    "    fig = pyplot.figure(figsize=fig_size)\n",
    "    ax = fig.add_subplot(1, 1, 1)\n",
    "    \n",
    "    ax.set_title(file_name, fontsize=16)\n",
    "\n",
    "    ax.set_xlim([0, len(flow_rate)])\n",
    "    #pyplot.ylim([0, 5])\n",
    "\n",
    "    ax.set_xlabel(\"Event\", fontsize=14)\n",
    "    ax.set_ylabel(\"Deviation (log)\", fontsize=14)\n",
    "\n",
    "    ax.plot(\n",
    "        event_indices,\n",
    "        np.log10(1 + diff),\n",
    "        c='coral',\n",
    "        alpha=0.6,\n",
    "        linewidth=1\n",
    "    )\n",
    "\n",
    "    ax.plot(\n",
    "        event_indices,\n",
    "        np.log10(1 + stable_diff),\n",
    "        c='cornflowerblue',\n",
    "        alpha=0.6,\n",
    "        linewidth=1\n",
    "    )\n",
    "\n",
    "    ax.plot(\n",
    "        event_indices,\n",
    "        np.log10(1 + smooth_stable_diff),\n",
    "        c='darkslateblue',\n",
    "        alpha=1.0,\n",
    "        linewidth=1\n",
    "    )\n",
    "\n",
    "    ax.axhline(np.log10(1 + threshold), linestyle='dashed', linewidth=2, c='crimson')\n",
    "    \n",
    "    fig.tight_layout()\n",
    "        \n",
    "    if save_figure:\n",
    "        fig_name = \"\".join([file_name, '_b_', 'deviation.png'])\n",
    "        fig_path = \"/\".join([figure_out_dir, fig_name])\n",
    "        pyplot.savefig(fig_path)\n",
    "\n",
    "    pyplot.show()"
   ]
  },
  {
   "cell_type": "code",
   "execution_count": null,
   "metadata": {
    "collapsed": false
   },
   "outputs": [],
   "source": [
    "def get_false_bounds(bool_array):\n",
    "    diff = np.diff(np.hstack((0, ~bool_array, 0)))\n",
    "    \n",
    "    start = np.where(diff==1)\n",
    "    end = np.where(diff==-1)\n",
    "    \n",
    "    return start[0], end[0]"
   ]
  },
  {
   "cell_type": "code",
   "execution_count": null,
   "metadata": {
    "collapsed": false
   },
   "outputs": [],
   "source": [
    "def plot_channel_good_vs_bad(\n",
    "        file_name,\n",
    "        channel_data,\n",
    "        time_data,\n",
    "        channel_name,\n",
    "        good_event_map,\n",
    "        bi_ex=True,\n",
    "        save_figure=False,\n",
    "        drop_negative=False\n",
    "    ):\n",
    "\n",
    "    pre_scale = 0.003\n",
    "    \n",
    "    if bi_ex:\n",
    "        channel_data = np.arcsinh(channel_data * pre_scale)\n",
    "    \n",
    "    starts, ends = get_false_bounds(good_event_map)\n",
    "\n",
    "    good_cmap = pyplot.cm.get_cmap('jet')\n",
    "    good_cmap.set_under('w', alpha=0)\n",
    "\n",
    "    fig = pyplot.figure(figsize=fig_size)\n",
    "    ax = fig.add_subplot(1, 1, 1)\n",
    "\n",
    "    ax.set_title(file_name, fontsize=16)\n",
    "    ax.set_xlabel('Time', fontsize=14)\n",
    "    ax.set_ylabel(channel_name, fontsize=14)\n",
    "\n",
    "    bins_good = int(np.sqrt(channel_data.shape[0]))\n",
    "\n",
    "    ax.hist2d(\n",
    "        time_data,\n",
    "        channel_data,\n",
    "        bins=bins_good,\n",
    "        cmap=good_cmap,\n",
    "        vmin=0.9\n",
    "    )\n",
    "\n",
    "    for i, s in enumerate(starts):\n",
    "        ax.axvspan(time_data[s], time_data[ends[i] - 1], facecolor='pink', alpha=0.3, edgecolor='deeppink')\n",
    "\n",
    "    fig.tight_layout()\n",
    "\n",
    "    if drop_negative:\n",
    "        ax.set_ylim(ymin=0)\n",
    "        \n",
    "    if save_figure:\n",
    "        fig_name = \"\".join([file_name, '_c_', 'filtered_events.png'])\n",
    "        fig_path = \"/\".join([figure_out_dir, fig_name])\n",
    "        pyplot.savefig(fig_path)\n",
    "\n",
    "    pyplot.show()"
   ]
  },
  {
   "cell_type": "code",
   "execution_count": null,
   "metadata": {
    "collapsed": false
   },
   "outputs": [],
   "source": [
    "def clean_stage1(fcs_file):\n",
    "    fd = flowio.FlowData(\"/\".join([data_dir, fcs_file]))\n",
    "    events = np.reshape(fd.events, (-1, fd.channel_count))\n",
    "    \n",
    "    time_index = find_channel_index(fd.channels, time_channel)\n",
    "    \n",
    "    diff_roll_count = int(diff_roll * events.shape[0])\n",
    "    flow_rate = calculate_flow_rate(events, time_index, diff_roll_count)\n",
    "    \n",
    "    median = np.median(flow_rate)\n",
    "    median_diff = np.abs(flow_rate - median)\n",
    "    \n",
    "    threshold = k * mad(median_diff)\n",
    "    #threshold = 1.0 * np.std(median_diff)\n",
    "        \n",
    "    initial_good_events = median_diff < threshold\n",
    "    \n",
    "    return flow_rate, median, initial_good_events, median_diff"
   ]
  },
  {
   "cell_type": "code",
   "execution_count": null,
   "metadata": {
    "collapsed": false
   },
   "outputs": [],
   "source": [
    "def clean_stage2(flow_rate, event_indices, initial_good_events, fit_method='lin'):\n",
    "    good_event_indices = event_indices[initial_good_events]\n",
    "    \n",
    "    if fit_method == 'lin':\n",
    "        line_regress = stats.linregress(good_event_indices, flow_rate[initial_good_events])\n",
    "        fit = (line_regress.slope * event_indices) + line_regress.intercept\n",
    "    elif fit_method == 'quad':\n",
    "        poly = np.polyfit(good_event_indices, flow_rate[initial_good_events], 2)\n",
    "        p = np.poly1d(poly)\n",
    "        fit = p(event_indices)\n",
    "    elif fit_method == 'cubic':\n",
    "        poly = np.polyfit(good_event_indices, flow_rate[initial_good_events], 3)\n",
    "        p = np.poly1d(poly)\n",
    "        fit = p(event_indices)\n",
    "    else:\n",
    "        return\n",
    "    \n",
    "    return fit"
   ]
  },
  {
   "cell_type": "code",
   "execution_count": null,
   "metadata": {
    "collapsed": false
   },
   "outputs": [],
   "source": [
    "def clean_stage3(stable_diff):\n",
    "    final_threshold = k2 * mad(stable_diff)\n",
    "    \n",
    "    final_w = int(final_roll * stable_diff.shape[0])\n",
    "    smoothed_diff = pd.rolling_mean(stable_diff, window=final_w, min_periods=1, center=True)\n",
    "    final_good_events = smoothed_diff < final_threshold\n",
    "    \n",
    "    return final_good_events, smoothed_diff, final_threshold"
   ]
  },
  {
   "cell_type": "code",
   "execution_count": null,
   "metadata": {
    "collapsed": false
   },
   "outputs": [],
   "source": [
    "def clean(fcs_file, fit_method='lin', roll=5000):\n",
    "    flow_rate, median, good_events_stage1, median_diff = clean_stage1(fcs_file)\n",
    "\n",
    "    event_indices = np.arange(0, len(flow_rate))\n",
    "    \n",
    "    flow_rate_fit = clean_stage2(flow_rate, event_indices, good_events_stage1, fit_method=fit_method)\n",
    "    \n",
    "    plot_flow_rate(\n",
    "        fcs_file, \n",
    "        flow_rate, \n",
    "        event_indices, \n",
    "        hline=median, \n",
    "        trendline=flow_rate_fit\n",
    "    )\n",
    "    \n",
    "    stable_diff = np.abs(flow_rate - flow_rate_fit)\n",
    "    \n",
    "    final_good_events, smoothed_diff, final_threshold = clean_stage3(stable_diff)\n",
    "    \n",
    "    plot_deviation(\n",
    "        fcs_file, \n",
    "        flow_rate, \n",
    "        event_indices, \n",
    "        median_diff, \n",
    "        stable_diff, \n",
    "        smoothed_diff, \n",
    "        final_threshold\n",
    "    )\n",
    "    \n",
    "    fd2 = flowio.FlowData(\"/\".join([data_dir, fcs_file]))\n",
    "    events2 = np.reshape(fd2.events, (-1, fd2.channel_count))\n",
    "\n",
    "    time_index = find_channel_index(fd2.channels, time_channel)\n",
    "    data_channel_index = find_channel_index(fd2.channels, data_channel)\n",
    "    \n",
    "    plot_channel_good_vs_bad(\n",
    "        fd2.name, \n",
    "        events2[:, data_channel_index], \n",
    "        events2[:, time_index], \n",
    "        data_channel, \n",
    "        final_good_events,\n",
    "        drop_negative=False\n",
    "    )\n",
    "    \n",
    "    channels = sorted([int(channel) - 1 for channel in fd2.channels])\n",
    "    \n",
    "    for channel in channels[:-1]:\n",
    "        good_chan_events = np.arcsinh(events2[final_good_events, channel] * 0.003)\n",
    "        \n",
    "        channel_name = fd2.channels[str(channel + 1)]['PnN']\n",
    "        \n",
    "        cdf = ECDF(good_chan_events)\n",
    "                \n",
    "#         std_chan = pd.rolling_apply(\n",
    "#             np.arcsinh(events2[:, channel] * 0.003), \n",
    "#             10000, \n",
    "#             #lambda x: my_kstest(x, cdf),\n",
    "#             np.std,\n",
    "#             min_periods=1,\n",
    "#             center=True\n",
    "#         )\n",
    "        \n",
    "#         mean_chan = pd.rolling_apply(\n",
    "#             np.arcsinh(events2[:, channel] * 0.003), \n",
    "#             10000, \n",
    "#             #lambda x: my_kstest(x, cdf),\n",
    "#             np.mean,\n",
    "#             min_periods=1,\n",
    "#             center=True\n",
    "#         )\n",
    "        \n",
    "        std_chan = pd.rolling_std(\n",
    "            np.arcsinh(events2[:, channel] * 0.003), \n",
    "            roll, \n",
    "            min_periods=1,\n",
    "            center=True\n",
    "        )\n",
    "        \n",
    "        mean_chan = pd.rolling_mean(\n",
    "            np.arcsinh(events2[:, channel] * 0.003), \n",
    "            roll, \n",
    "            min_periods=1,\n",
    "            center=True\n",
    "        )\n",
    "        \n",
    "        kurt_chan = pd.rolling_kurt(\n",
    "            np.arcsinh(events2[:, channel] * 0.003), \n",
    "            roll, \n",
    "            min_periods=1,\n",
    "            center=True\n",
    "        )\n",
    "        \n",
    "        fig = pyplot.figure(figsize=fig_size)\n",
    "        ax = fig.add_subplot(1, 1, 1)\n",
    "        ax.set_title(\" - \".join([str(channel + 1), channel_name, \"StdDev\"]), fontsize=16)\n",
    "        ax.set_xlim([0, len(flow_rate)])\n",
    "        pyplot.scatter(np.arange(0, len(flow_rate)), std_chan, s=1, edgecolors='none')\n",
    "        fig.tight_layout()\n",
    "        pyplot.show()\n",
    "        \n",
    "        fig = pyplot.figure(figsize=fig_size)\n",
    "        ax = fig.add_subplot(1, 1, 1)\n",
    "        ax.set_title(\" - \".join([str(channel + 1), channel_name, \"Mean\"]), fontsize=16)\n",
    "        ax.set_xlim([0, len(flow_rate)])\n",
    "        pyplot.scatter(np.arange(0, len(flow_rate)), mean_chan, s=1, edgecolors='none')\n",
    "        fig.tight_layout()\n",
    "        pyplot.show()\n",
    "        \n",
    "        fig = pyplot.figure(figsize=fig_size)\n",
    "        ax = fig.add_subplot(1, 1, 1)\n",
    "        ax.set_title(\" - \".join([str(channel + 1), channel_name, \"Kurt\"]), fontsize=16)\n",
    "        ax.set_xlim([0, len(flow_rate)])\n",
    "        pyplot.scatter(np.arange(0, len(flow_rate)), kurt_chan, s=1, edgecolors='none')\n",
    "        fig.tight_layout()\n",
    "        pyplot.show()\n",
    "        \n",
    "        fig = pyplot.figure(figsize=fig_size)\n",
    "        ax = fig.add_subplot(1, 1, 1)\n",
    "        ax.set_title(\" - \".join([str(channel + 1), channel_name, \"StdDev / Mean\"]), fontsize=16)\n",
    "        ax.set_xlim([0, len(flow_rate)])\n",
    "        pyplot.scatter(np.arange(0, len(flow_rate)), std_chan/mean_chan, s=1, edgecolors='none')\n",
    "        fig.tight_layout()\n",
    "        pyplot.show()"
   ]
  },
  {
   "cell_type": "code",
   "execution_count": null,
   "metadata": {
    "collapsed": true
   },
   "outputs": [],
   "source": [
    "pd.rolling_kurt?"
   ]
  },
  {
   "cell_type": "code",
   "execution_count": null,
   "metadata": {
    "collapsed": false
   },
   "outputs": [],
   "source": [
    "def my_kstest(data, cdf):\n",
    "    ks = stats.kstest(data, cdf)\n",
    "    \n",
    "    return ks.pvalue"
   ]
  },
  {
   "cell_type": "code",
   "execution_count": null,
   "metadata": {
    "collapsed": false
   },
   "outputs": [],
   "source": [
    "fcs_files = os.listdir(data_dir)\n",
    "fcs_files = sorted(fcs_files)"
   ]
  },
  {
   "cell_type": "code",
   "execution_count": null,
   "metadata": {
    "collapsed": false
   },
   "outputs": [],
   "source": [
    "plot_channel(fcs_files[7], x_channel_index=14, y_channel_index=11, x_biex=False, y_biex=True, fig_size=(16, 12))"
   ]
  },
  {
   "cell_type": "code",
   "execution_count": null,
   "metadata": {
    "collapsed": false,
    "scrolled": false
   },
   "outputs": [],
   "source": [
    "weird_ones = [7] #10, 15, 24, 26, 27]\n",
    "\n",
    "for weirdo in weird_ones:\n",
    "    clean(fcs_files[weirdo], fit_method='lin', roll=2000)"
   ]
  },
  {
   "cell_type": "code",
   "execution_count": null,
   "metadata": {
    "collapsed": false
   },
   "outputs": [],
   "source": []
  }
 ],
 "metadata": {
  "kernelspec": {
   "display_name": "Python [default]",
   "language": "python",
   "name": "python2"
  },
  "language_info": {
   "codemirror_mode": {
    "name": "ipython",
    "version": 2
   },
   "file_extension": ".py",
   "mimetype": "text/x-python",
   "name": "python",
   "nbconvert_exporter": "python",
   "pygments_lexer": "ipython2",
   "version": "2.7.12"
  }
 },
 "nbformat": 4,
 "nbformat_minor": 0
}
