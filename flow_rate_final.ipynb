{
 "cells": [
  {
   "cell_type": "code",
   "execution_count": 2,
   "metadata": {
    "collapsed": false
   },
   "outputs": [],
   "source": [
    "import os\n",
    "import numpy as np\n",
    "import scipy.stats as stats\n",
    "from statsmodels.robust.scale import mad\n",
    "import pandas as pd\n",
    "from matplotlib import pyplot\n",
    "\n",
    "import flowio"
   ]
  },
  {
   "cell_type": "code",
   "execution_count": null,
   "metadata": {
    "collapsed": true
   },
   "outputs": [],
   "source": [
    "time_channel = \"Time\"\n",
    "data_channel = \"SSC-A\"\n",
    "data_dir = \"data\"\n",
    "diff_roll = 0.01\n",
    "final_roll = 0.02\n",
    "k = 2.0\n",
    "k2 = 3.0\n",
    "\n",
    "figure_out_dir = \"flow_rate_qc\""
   ]
  },
  {
   "cell_type": "code",
   "execution_count": null,
   "metadata": {
    "collapsed": true
   },
   "outputs": [],
   "source": [
    "def find_channel_index(channel_dict, pnn_text):\n",
    "    for k, v in channel_dict.iteritems():\n",
    "        if v['PnN'] == pnn_text:\n",
    "            index = int(k) - 1\n",
    "    \n",
    "    return index"
   ]
  },
  {
   "cell_type": "code",
   "execution_count": null,
   "metadata": {
    "collapsed": true
   },
   "outputs": [],
   "source": [
    "def calculate_flow_rate(events, time_index, roll):\n",
    "    time_diff = np.diff(events[:, time_index])\n",
    "    time_diff = np.insert(time_diff, 0, 0)\n",
    "    \n",
    "    time_diff_mean = pd.rolling_mean(time_diff, roll, min_periods=1)\n",
    "    min_diff = time_diff_mean[time_diff_mean > 0].min()\n",
    "    time_diff_mean[time_diff_mean == 0] = min_diff\n",
    "    \n",
    "    flow_rate = 1 / time_diff_mean\n",
    "    \n",
    "    return flow_rate"
   ]
  },
  {
   "cell_type": "code",
   "execution_count": null,
   "metadata": {
    "collapsed": false
   },
   "outputs": [],
   "source": [
    "def plot_channel(file_name, x, y, x_label, y_label):\n",
    "    pre_scale = 0.003\n",
    "    \n",
    "    my_cmap = pyplot.cm.get_cmap('jet')\n",
    "    my_cmap.set_under('w', alpha=0)\n",
    "    \n",
    "    bins = int(np.sqrt(x.shape[0]))\n",
    "    \n",
    "    fig = pyplot.figure(figsize=(16, 8))\n",
    "    ax = fig.add_subplot(1, 1, 1)\n",
    "    \n",
    "    ax.set_title(file_name, fontsize=16)\n",
    "    \n",
    "    ax.set_xlabel(x_label, fontsize=14)\n",
    "    ax.set_ylabel(y_label, fontsize=14)\n",
    "    \n",
    "    ax.hist2d(\n",
    "        x,\n",
    "        np.arcsinh(y * pre_scale),\n",
    "        bins=[bins, bins],\n",
    "        cmap=my_cmap,\n",
    "        vmin=0.9\n",
    "    )\n",
    "    \n",
    "    fig.tight_layout()\n",
    "    \n",
    "    pyplot.show()"
   ]
  },
  {
   "cell_type": "code",
   "execution_count": null,
   "metadata": {
    "collapsed": true
   },
   "outputs": [],
   "source": [
    "def plot_flow_rate(\n",
    "        file_name, \n",
    "        flow_rate, \n",
    "        event_idx, \n",
    "        hline=None, \n",
    "        trendline=None, \n",
    "        x_lim=None, \n",
    "        y_lim=None,\n",
    "        save_figure=False\n",
    "    ):\n",
    "    \n",
    "    fig = pyplot.figure(figsize=(16, 4))\n",
    "    ax = fig.add_subplot(1, 1, 1)\n",
    "    \n",
    "    ax.set_title(file_name, fontsize=16)\n",
    "    \n",
    "    ax.set_xlabel(\"Event\", fontsize=14)\n",
    "    ax.set_ylabel(\"Flow rate (events/ms)\", fontsize=14)\n",
    "    \n",
    "    if x_lim is None:\n",
    "        ax.set_xlim([0, max(event_idx)])\n",
    "    else:\n",
    "        ax.set_xlim([x_lim[0], x_lim[1]])\n",
    "    \n",
    "    if y_lim is not None:\n",
    "        ax.set_ylim([y_lim[0], y_lim[1]])\n",
    "    \n",
    "    ax.plot(\n",
    "        event_idx,\n",
    "        flow_rate,\n",
    "        c='darkslateblue'\n",
    "    )\n",
    "    \n",
    "    if hline is not None:\n",
    "        ax.axhline(hline, linestyle='-', linewidth=1, c='coral')\n",
    "    \n",
    "    if trendline is not None:\n",
    "        ax.plot(event_idx, trendline, c='cornflowerblue')\n",
    "    \n",
    "    fig.tight_layout()\n",
    "        \n",
    "    if save_figure:\n",
    "        fig_name = \"\".join([file_name, '_a_', 'flow_rate.png'])\n",
    "        fig_path = \"/\".join([figure_out_dir, fig_name])\n",
    "        pyplot.savefig(fig_path)\n",
    "\n",
    "    pyplot.show()"
   ]
  },
  {
   "cell_type": "code",
   "execution_count": null,
   "metadata": {
    "collapsed": false
   },
   "outputs": [],
   "source": [
    "def plot_deviation(\n",
    "        file_name, \n",
    "        flow_rate, \n",
    "        event_indices, \n",
    "        diff, \n",
    "        stable_diff, \n",
    "        smooth_stable_diff, \n",
    "        threshold,\n",
    "        save_figure=False\n",
    "    ):\n",
    "    fig = pyplot.figure(figsize=(16, 4))\n",
    "    ax = fig.add_subplot(1, 1, 1)\n",
    "    \n",
    "    ax.set_title(file_name, fontsize=16)\n",
    "\n",
    "    ax.set_xlim([0, len(flow_rate)])\n",
    "    #pyplot.ylim([0, 5])\n",
    "\n",
    "    ax.set_xlabel(\"Event\", fontsize=14)\n",
    "    ax.set_ylabel(\"Deviation (log)\", fontsize=14)\n",
    "\n",
    "    ax.plot(\n",
    "        event_indices,\n",
    "        np.log10(1 + diff),\n",
    "        c='coral',\n",
    "        alpha=0.6,\n",
    "        linewidth=1\n",
    "    )\n",
    "\n",
    "    ax.plot(\n",
    "        event_indices,\n",
    "        np.log10(1 + stable_diff),\n",
    "        c='cornflowerblue',\n",
    "        alpha=0.6,\n",
    "        linewidth=1\n",
    "    )\n",
    "\n",
    "    ax.plot(\n",
    "        event_indices,\n",
    "        np.log10(1 + smooth_stable_diff),\n",
    "        c='darkslateblue',\n",
    "        alpha=1.0,\n",
    "        linewidth=1\n",
    "    )\n",
    "\n",
    "    ax.axhline(np.log10(1 + threshold), linestyle='dashed', linewidth=2, c='crimson')\n",
    "    \n",
    "    fig.tight_layout()\n",
    "        \n",
    "    if save_figure:\n",
    "        fig_name = \"\".join([file_name, '_b_', 'deviation.png'])\n",
    "        fig_path = \"/\".join([figure_out_dir, fig_name])\n",
    "        pyplot.savefig(fig_path)\n",
    "\n",
    "    pyplot.show()"
   ]
  },
  {
   "cell_type": "code",
   "execution_count": null,
   "metadata": {
    "collapsed": false
   },
   "outputs": [],
   "source": [
    "def plot_channel_good_vs_bad(\n",
    "        file_name,\n",
    "        channel_data,\n",
    "        time_data,\n",
    "        channel_name,\n",
    "        good_event_map,\n",
    "        bi_ex=True,\n",
    "        save_figure=False\n",
    "    ):\n",
    "\n",
    "    pre_scale = 0.003\n",
    "    \n",
    "    good_cmap = pyplot.cm.get_cmap('jet')\n",
    "    good_cmap.set_under('w', alpha=0)\n",
    "    \n",
    "    bad_cmap = pyplot.cm.get_cmap('jet')\n",
    "    bad_cmap.set_under('w', alpha=0)\n",
    "        \n",
    "    x_good = time_data[good_event_map]\n",
    "    x_bad = time_data[~good_event_map]\n",
    "    \n",
    "    if bi_ex:\n",
    "        y_good = np.arcsinh(channel_data[good_event_map] * pre_scale)\n",
    "        y_bad = np.arcsinh(channel_data[~good_event_map] * pre_scale)\n",
    "    else:\n",
    "        y_good = channel_data[good_event_map]\n",
    "        y_bad = channel_data[~good_event_map]\n",
    "    \n",
    "    bins_good = int(np.sqrt(good_event_map.shape[0]))\n",
    "    bins_bad = bins_good\n",
    "    \n",
    "    if bins_good >= y_good.shape[0]:\n",
    "        print(\"Good values less than bins: %s\" % file_name)\n",
    "        return\n",
    "    if bins_bad >= y_bad.shape[0]:\n",
    "        print(\"Bad values less than bins: %s\" % file_name)\n",
    "        return\n",
    "    \n",
    "    fig = pyplot.figure(figsize=(16, 4))\n",
    "    ax = fig.add_subplot(1, 1, 1)\n",
    "    \n",
    "    ax.set_title(file_name, fontsize=16)\n",
    "    ax.set_xlabel('Time', fontsize=14)\n",
    "    ax.set_ylabel(channel_name, fontsize=14)\n",
    "    \n",
    "    ax.hist2d(\n",
    "        x_good,\n",
    "        y_good,\n",
    "        bins=[bins_good, bins_good],\n",
    "        cmap=good_cmap,\n",
    "        vmin=0.9\n",
    "    )\n",
    "    \n",
    "    ax.hist2d(\n",
    "        x_bad,\n",
    "        y_bad,\n",
    "        bins=[bins_bad, bins_bad],\n",
    "        cmap=bad_cmap,\n",
    "        vmin=0.9,\n",
    "        alpha=0.3\n",
    "    )\n",
    "    \n",
    "    fig.tight_layout()\n",
    "        \n",
    "    if save_figure:\n",
    "        fig_name = \"\".join([file_name, '_c_', 'filtered_events.png'])\n",
    "        fig_path = \"/\".join([figure_out_dir, fig_name])\n",
    "        pyplot.savefig(fig_path)\n",
    "\n",
    "    pyplot.show()"
   ]
  },
  {
   "cell_type": "code",
   "execution_count": null,
   "metadata": {
    "collapsed": true
   },
   "outputs": [],
   "source": [
    "def clean(fcs_file, save_figures=False):\n",
    "    fd = flowio.FlowData(\"/\".join([data_dir, fcs_file]))\n",
    "    events = np.reshape(fd.events, (-1, fd.channel_count))\n",
    "    \n",
    "    time_index = find_channel_index(fd.channels, time_channel)\n",
    "    \n",
    "    diff_roll_count = int(diff_roll * events.shape[0])\n",
    "    flow_rate = calculate_flow_rate(events, time_index, diff_roll_count)\n",
    "    \n",
    "    median = np.median(flow_rate)\n",
    "    median_diff = np.abs(flow_rate - median)\n",
    "    \n",
    "    threshold = k * mad(median_diff)\n",
    "    initial_good_events = median_diff < threshold\n",
    "    \n",
    "    event_indices = np.arange(0, len(flow_rate))\n",
    "    good_event_indices = event_indices[initial_good_events]\n",
    "    \n",
    "    line_regress = stats.linregress(good_event_indices, flow_rate[initial_good_events])\n",
    "    \n",
    "    linear_fit = (line_regress.slope * event_indices) + line_regress.intercept\n",
    "    stable_diff = np.abs(flow_rate - linear_fit)\n",
    "    \n",
    "    final_threshold = k2 * mad(stable_diff)\n",
    "    \n",
    "    final_w = int(final_roll * stable_diff.shape[0])\n",
    "    smoothed_diff = pd.rolling_mean(stable_diff, window=final_w, min_periods=1, center=True)\n",
    "    final_good_events = smoothed_diff < final_threshold\n",
    "    \n",
    "    plot_flow_rate(\n",
    "        fd.name, \n",
    "        flow_rate, \n",
    "        event_indices, \n",
    "        hline=median, \n",
    "        trendline=linear_fit,\n",
    "        save_figure=save_fig\n",
    "    )\n",
    "    \n",
    "    plot_deviation(\n",
    "        fd.name, \n",
    "        flow_rate, \n",
    "        event_indices, \n",
    "        median_diff, \n",
    "        stable_diff, \n",
    "        smoothed_diff, \n",
    "        final_threshold,\n",
    "        save_figure=save_fig\n",
    "    )\n",
    "    \n",
    "    data_channel_index = find_channel_index(fd.channels, data_channel)\n",
    "    plot_channel_good_vs_bad(\n",
    "        fd.name, \n",
    "        events[:, data_channel_index], \n",
    "        events[:, time_index], \n",
    "        data_channel, \n",
    "        final_good_events,\n",
    "        save_figure=save_fig\n",
    "    )"
   ]
  },
  {
   "cell_type": "code",
   "execution_count": null,
   "metadata": {
    "collapsed": false
   },
   "outputs": [],
   "source": [
    "if not os.path.isdir(figure_out_dir):\n",
    "    os.mkdir(figure_out_dir)\n",
    "\n",
    "save_fig = True"
   ]
  },
  {
   "cell_type": "code",
   "execution_count": null,
   "metadata": {
    "collapsed": false
   },
   "outputs": [],
   "source": [
    "fcs_files = os.listdir(data_dir)\n",
    "fcs_files = sorted(fcs_files)"
   ]
  },
  {
   "cell_type": "code",
   "execution_count": null,
   "metadata": {
    "collapsed": false
   },
   "outputs": [],
   "source": [
    "fd = flowio.FlowData(\"/\".join([data_dir, fcs_files[0]]))\n",
    "events = np.reshape(fd.events, (-1, fd.channel_count))\n",
    "plot_channel(fd.name, events[:, 14], events[:, 3], 'Time', 'SSC-A')"
   ]
  },
  {
   "cell_type": "code",
   "execution_count": null,
   "metadata": {
    "collapsed": false
   },
   "outputs": [],
   "source": [
    "clean(fcs_files[0], save_figures=save_fig)"
   ]
  },
  {
   "cell_type": "code",
   "execution_count": null,
   "metadata": {
    "collapsed": false,
    "scrolled": true
   },
   "outputs": [],
   "source": [
    "for fcs_file in fcs_files:\n",
    "    clean(fcs_file, save_figures=save_fig)"
   ]
  },
  {
   "cell_type": "code",
   "execution_count": null,
   "metadata": {
    "collapsed": true
   },
   "outputs": [],
   "source": []
  }
 ],
 "metadata": {
  "kernelspec": {
   "display_name": "Python [default]",
   "language": "python",
   "name": "python2"
  },
  "language_info": {
   "codemirror_mode": {
    "name": "ipython",
    "version": 2
   },
   "file_extension": ".py",
   "mimetype": "text/x-python",
   "name": "python",
   "nbconvert_exporter": "python",
   "pygments_lexer": "ipython2",
   "version": "2.7.12"
  }
 },
 "nbformat": 4,
 "nbformat_minor": 1
}
